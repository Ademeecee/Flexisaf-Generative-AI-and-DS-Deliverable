{
  "nbformat": 4,
  "nbformat_minor": 0,
  "metadata": {
    "colab": {
      "provenance": []
    },
    "kernelspec": {
      "name": "python3",
      "display_name": "Python 3"
    },
    "language_info": {
      "name": "python"
    }
  },
  "cells": [
    {
      "cell_type": "markdown",
      "source": [
        "# Rock Paper Scissors"
      ],
      "metadata": {
        "id": "he5h_gVpJpie"
      }
    },
    {
      "cell_type": "code",
      "execution_count": 1,
      "metadata": {
        "id": "WxF-ucYZKdVH"
      },
      "outputs": [],
      "source": [
        "# Get the user choice\n",
        "def user_choice():\n",
        "    # Prompt the user to enter their choice and convert it to lowercase\n",
        "    choice = input(\"Please enter your choice between rock, paper or scissors: \").lower()\n",
        "\n",
        "    # Loop until a valid choice is entered\n",
        "    while choice not in ['rock', 'paper', 'scissors']:\n",
        "        print(\"Sorry, invalid choice!\")  # Inform the user of invalid input\n",
        "        # Prompt again for a valid choice\n",
        "        choice = input(\"Please enter your choice between rock, paper or scissors: \").lower()\n",
        "\n",
        "    # Return the valid user choice\n",
        "    return choice"
      ]
    },
    {
      "cell_type": "code",
      "source": [
        "# Generate a random choice for the computer\n",
        "def computer_choice():\n",
        "    # Import the random module to make random selections\n",
        "    import random\n",
        "\n",
        "    # Randomly select one option from the list\n",
        "    choice = random.choice(['rock', 'paper', 'scissors'])\n",
        "\n",
        "    # Return the computer's choice\n",
        "    return choice"
      ],
      "metadata": {
        "id": "KJHZJAEjOx4u"
      },
      "execution_count": 2,
      "outputs": []
    },
    {
      "cell_type": "code",
      "source": [
        "# Determine the winner based on user and computer choices\n",
        "def check_winner(user: str, computer: str) -> str:\n",
        "    # If both user and computer made the same choice, it's a tie\n",
        "    if user == computer:\n",
        "        return 'tie'\n",
        "\n",
        "    # Winning conditions for the user\n",
        "    elif (user == 'rock' and computer == 'scissors') or \\\n",
        "         (user == 'scissors' and computer == 'paper') or \\\n",
        "         (user == 'paper' and computer == 'rock'):\n",
        "        return 'win'\n",
        "\n",
        "    # Any other condition means the computer wins\n",
        "    else:\n",
        "        return 'lose'"
      ],
      "metadata": {
        "id": "OFdLj6RiZlu0"
      },
      "execution_count": 3,
      "outputs": []
    },
    {
      "cell_type": "code",
      "source": [
        "# Prompt user to play again and validate input\n",
        "def play_again():\n",
        "    # Ask the user if they want to play another round\n",
        "    play_again = input(\"Do you want to play again? (yes/no): \").lower()\n",
        "\n",
        "    # Keep prompting until a valid answer is given\n",
        "    while play_again not in ['yes', 'no']:\n",
        "        print(\"Sorry, invalid choice!\")  # Notify about invalid input\n",
        "        play_again = input(\"Do you want to play again? (yes/no): \").lower()\n",
        "\n",
        "    # Return the user's decision\n",
        "    return play_again"
      ],
      "metadata": {
        "id": "tPHJKaSvQpSG"
      },
      "execution_count": 4,
      "outputs": []
    },
    {
      "cell_type": "code",
      "source": [
        "# Rock-Paper-Scissors main function\n",
        "def rock_paper_scissors():\n",
        "    # Display welcome message\n",
        "    print(\"Welcome to Rock, Paper, Scissors!\")\n",
        "    print(\"================================\")\n",
        "\n",
        "    # Get player's name\n",
        "    name = input(\"Please enter your name: \").capitalize()\n",
        "    print(f\"\\nHello {name}! Let's play Rock, Paper, Scissors!\")\n",
        "    print(\"================================\\n\")\n",
        "\n",
        "    # Initialize score tracking\n",
        "    score = {name: 0, 'Computer': 0, 'tie': 0}\n",
        "\n",
        "    # Start the game loop\n",
        "    while True:\n",
        "        # Get user's and computer's choices\n",
        "        user = user_choice()\n",
        "        computer = computer_choice()\n",
        "\n",
        "        # Display choices\n",
        "        print(f\"You chose {user}\")\n",
        "        print(f\"The computer chose {computer}\")\n",
        "\n",
        "        # Determine and display the result\n",
        "        result = check_winner(user, computer)\n",
        "        if result == 'win':\n",
        "            print(\"You win!\")\n",
        "            score[name] += 1\n",
        "        elif result == 'lose':\n",
        "            print(\"Computer wins!\")\n",
        "            score['Computer'] += 1\n",
        "        else:\n",
        "            print(\"It's a tie!\")\n",
        "            score['tie'] += 1\n",
        "\n",
        "        # Ask the user if they want to play again\n",
        "        again = play_again()\n",
        "        if again != 'yes':\n",
        "            # Display final scores and end the game\n",
        "            print(f\"\\n{name}'s score: {score[name]}\")\n",
        "            print(f\"Computer's score: {score['Computer']}\")\n",
        "            print(f\"Ties: {score['tie']}\")\n",
        "            print(\"\\nThanks for playing!\")\n",
        "            break"
      ],
      "metadata": {
        "id": "hw5IJ1zyQ4a6"
      },
      "execution_count": 8,
      "outputs": []
    },
    {
      "cell_type": "code",
      "source": [
        "# Play the game\n",
        "rock_paper_scissors()"
      ],
      "metadata": {
        "colab": {
          "base_uri": "https://localhost:8080/"
        },
        "id": "mlr2LAf3TYPt",
        "outputId": "5b68bccb-3638-4ac3-9856-3dd56ac00e99"
      },
      "execution_count": 9,
      "outputs": [
        {
          "output_type": "stream",
          "name": "stdout",
          "text": [
            "Welcome to Rock, Paper, Scissors!\n",
            "================================\n",
            "Please enter your name: Dante\n",
            "\n",
            "Hello Dante! Let's play Rock, Paper, Scissors!\n",
            "================================\n",
            "\n",
            "Please enter your choice between rock, paper or scissors: rock\n",
            "You chose rock\n",
            "The computer chose paper\n",
            "Computer wins!\n",
            "Do you want to play again? (yes/no): yes\n",
            "Please enter your choice between rock, paper or scissors: paper\n",
            "You chose paper\n",
            "The computer chose paper\n",
            "It's a tie!\n",
            "Do you want to play again? (yes/no): yes\n",
            "Please enter your choice between rock, paper or scissors: scissors\n",
            "You chose scissors\n",
            "The computer chose scissors\n",
            "It's a tie!\n",
            "Do you want to play again? (yes/no): yes\n",
            "Please enter your choice between rock, paper or scissors: rock\n",
            "You chose rock\n",
            "The computer chose paper\n",
            "Computer wins!\n",
            "Do you want to play again? (yes/no): yes\n",
            "Please enter your choice between rock, paper or scissors: paper\n",
            "You chose paper\n",
            "The computer chose rock\n",
            "You win!\n",
            "Do you want to play again? (yes/no): no\n",
            "\n",
            "Dante's score: 1\n",
            "Computer's score: 2\n",
            "Ties: 2\n",
            "\n",
            "Thanks for playing!\n"
          ]
        }
      ]
    },
    {
      "cell_type": "code",
      "source": [],
      "metadata": {
        "id": "VApl6jmuXcih"
      },
      "execution_count": null,
      "outputs": []
    }
  ]
}